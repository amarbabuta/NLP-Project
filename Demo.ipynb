{
 "cells": [
  {
   "cell_type": "code",
   "execution_count": 1,
   "metadata": {},
   "outputs": [
    {
     "name": "stderr",
     "output_type": "stream",
     "text": [
      "C:\\Users\\AMAR\\Anaconda3\\lib\\site-packages\\tensorflow\\python\\framework\\dtypes.py:526: FutureWarning: Passing (type, 1) or '1type' as a synonym of type is deprecated; in a future version of numpy, it will be understood as (type, (1,)) / '(1,)type'.\n",
      "  _np_qint8 = np.dtype([(\"qint8\", np.int8, 1)])\n",
      "C:\\Users\\AMAR\\Anaconda3\\lib\\site-packages\\tensorflow\\python\\framework\\dtypes.py:527: FutureWarning: Passing (type, 1) or '1type' as a synonym of type is deprecated; in a future version of numpy, it will be understood as (type, (1,)) / '(1,)type'.\n",
      "  _np_quint8 = np.dtype([(\"quint8\", np.uint8, 1)])\n",
      "C:\\Users\\AMAR\\Anaconda3\\lib\\site-packages\\tensorflow\\python\\framework\\dtypes.py:528: FutureWarning: Passing (type, 1) or '1type' as a synonym of type is deprecated; in a future version of numpy, it will be understood as (type, (1,)) / '(1,)type'.\n",
      "  _np_qint16 = np.dtype([(\"qint16\", np.int16, 1)])\n",
      "C:\\Users\\AMAR\\Anaconda3\\lib\\site-packages\\tensorflow\\python\\framework\\dtypes.py:529: FutureWarning: Passing (type, 1) or '1type' as a synonym of type is deprecated; in a future version of numpy, it will be understood as (type, (1,)) / '(1,)type'.\n",
      "  _np_quint16 = np.dtype([(\"quint16\", np.uint16, 1)])\n",
      "C:\\Users\\AMAR\\Anaconda3\\lib\\site-packages\\tensorflow\\python\\framework\\dtypes.py:530: FutureWarning: Passing (type, 1) or '1type' as a synonym of type is deprecated; in a future version of numpy, it will be understood as (type, (1,)) / '(1,)type'.\n",
      "  _np_qint32 = np.dtype([(\"qint32\", np.int32, 1)])\n",
      "C:\\Users\\AMAR\\Anaconda3\\lib\\site-packages\\tensorflow\\python\\framework\\dtypes.py:535: FutureWarning: Passing (type, 1) or '1type' as a synonym of type is deprecated; in a future version of numpy, it will be understood as (type, (1,)) / '(1,)type'.\n",
      "  np_resource = np.dtype([(\"resource\", np.ubyte, 1)])\n",
      "C:\\Users\\AMAR\\Anaconda3\\lib\\site-packages\\dask\\dataframe\\utils.py:13: FutureWarning: pandas.util.testing is deprecated. Use the functions in the public API at pandas.testing instead.\n",
      "  import pandas.util.testing as tm\n",
      "Using TensorFlow backend.\n"
     ]
    }
   ],
   "source": [
    "import pandas as pd\n",
    "import numpy as np\n",
    "import seaborn as sns\n",
    "import matplotlib.pyplot as plt\n",
    "import tensorflow as tf\n",
    "from sklearn.feature_extraction.text import CountVectorizer\n",
    "from sklearn import feature_extraction, linear_model, model_selection, preprocessing\n",
    "from sklearn.metrics import accuracy_score\n",
    "from sklearn.model_selection import train_test_split\n",
    "from sklearn.feature_extraction.text import TfidfTransformer\n",
    "from sklearn.pipeline import Pipeline\n",
    "from sklearn.svm import LinearSVC\n",
    "from sklearn.linear_model import LogisticRegression\n",
    "from sklearn.naive_bayes import GaussianNB\n",
    "from sklearn.naive_bayes import BernoulliNB\n",
    "from sklearn.naive_bayes import MultinomialNB\n",
    "from sklearn.ensemble import GradientBoostingClassifier\n",
    "from sklearn.tree import DecisionTreeClassifier\n",
    "from sklearn.neighbors import KNeighborsClassifier\n",
    "from xgboost import XGBClassifier\n",
    "from sklearn.linear_model import SGDClassifier\n",
    "from sklearn.ensemble import RandomForestClassifier\n",
    "from sklearn.preprocessing import LabelEncoder\n",
    "\n",
    "from keras.models import Model\n",
    "from keras.layers import LSTM, Activation, Dense, Dropout, Input, Embedding\n",
    "from keras.optimizers import RMSprop\n",
    "from keras.preprocessing.text import Tokenizer\n",
    "from keras.preprocessing import sequence\n",
    "from keras.callbacks import EarlyStopping\n",
    "from sklearn.feature_extraction.text import TfidfVectorizer\n",
    "import nltk\n",
    "import nltk as nlp\n",
    "import string\n",
    "import re"
   ]
  },
  {
   "cell_type": "code",
   "execution_count": 2,
   "metadata": {},
   "outputs": [],
   "source": [
    "from keras.preprocessing.sequence import pad_sequences\n",
    "from keras.models import Sequential\n",
    "from keras.layers.core import SpatialDropout1D\n",
    "from sklearn.preprocessing import StandardScaler\n",
    "from keras.wrappers.scikit_learn import KerasClassifier\n",
    "from sklearn.model_selection import StratifiedKFold\n",
    "from sklearn.model_selection import cross_val_score"
   ]
  },
  {
   "cell_type": "code",
   "execution_count": 3,
   "metadata": {},
   "outputs": [
    {
     "data": {
      "text/html": [
       "<div>\n",
       "<style scoped>\n",
       "    .dataframe tbody tr th:only-of-type {\n",
       "        vertical-align: middle;\n",
       "    }\n",
       "\n",
       "    .dataframe tbody tr th {\n",
       "        vertical-align: top;\n",
       "    }\n",
       "\n",
       "    .dataframe thead th {\n",
       "        text-align: right;\n",
       "    }\n",
       "</style>\n",
       "<table border=\"1\" class=\"dataframe\">\n",
       "  <thead>\n",
       "    <tr style=\"text-align: right;\">\n",
       "      <th></th>\n",
       "      <th>train-0</th>\n",
       "      <th>train-1</th>\n",
       "      <th>train-2</th>\n",
       "      <th>train-3</th>\n",
       "      <th>train-4</th>\n",
       "      <th>train-5</th>\n",
       "      <th>train-6</th>\n",
       "      <th>train-7</th>\n",
       "      <th>train-8</th>\n",
       "      <th>train-9</th>\n",
       "      <th>...</th>\n",
       "      <th>train-1158</th>\n",
       "      <th>train-1159</th>\n",
       "      <th>train-1160</th>\n",
       "      <th>train-1161</th>\n",
       "      <th>train-1162</th>\n",
       "      <th>train-1163</th>\n",
       "      <th>train-1164</th>\n",
       "      <th>train-1165</th>\n",
       "      <th>train-1166</th>\n",
       "      <th>train-1167</th>\n",
       "    </tr>\n",
       "  </thead>\n",
       "  <tbody>\n",
       "    <tr>\n",
       "      <th>text</th>\n",
       "      <td>why houston flooding isn‘t a sign of climate c...</td>\n",
       "      <td>The U.N. Intergovernmental Panel on Climate Ch...</td>\n",
       "      <td>Bureau Now Sets Strict Limits on Cooling\\nOVER...</td>\n",
       "      <td>The Dirty Extractive Underbelly of Clean Energ...</td>\n",
       "      <td>why climate change seems to have faded from th...</td>\n",
       "      <td>ipcc achieves zero credibility - our coalition...</td>\n",
       "      <td>Riots in Chile forced Chilean President Sebast...</td>\n",
       "      <td>claims of climate calamities made 100 months a...</td>\n",
       "      <td>Bureau’s Report Beyond Belief\\nThe release of ...</td>\n",
       "      <td>the climate change emergency is a pagan cult\\n...</td>\n",
       "      <td>...</td>\n",
       "      <td>Led by Colorado Attorney General (AG) Cynthia ...</td>\n",
       "      <td>earth day 2019 - not one single environmental ...</td>\n",
       "      <td>what navigator captain james cook might have s...</td>\n",
       "      <td>an avalanche of global warming alarmism is abo...</td>\n",
       "      <td>the world isn't going to halve co2 emissions b...</td>\n",
       "      <td>From Alberta to Australia, from Finland to Fra...</td>\n",
       "      <td>Lake Tahoe is enjoying a third consecutive yea...</td>\n",
       "      <td>New climate tests for pipelines are unnecessar...</td>\n",
       "      <td>Al Gore Claims Wind and Solar are Now Cheaper ...</td>\n",
       "      <td>This paper from Bruce Colbert, executive direc...</td>\n",
       "    </tr>\n",
       "    <tr>\n",
       "      <th>label</th>\n",
       "      <td>1</td>\n",
       "      <td>1</td>\n",
       "      <td>1</td>\n",
       "      <td>1</td>\n",
       "      <td>1</td>\n",
       "      <td>1</td>\n",
       "      <td>1</td>\n",
       "      <td>1</td>\n",
       "      <td>1</td>\n",
       "      <td>1</td>\n",
       "      <td>...</td>\n",
       "      <td>1</td>\n",
       "      <td>1</td>\n",
       "      <td>1</td>\n",
       "      <td>1</td>\n",
       "      <td>1</td>\n",
       "      <td>1</td>\n",
       "      <td>1</td>\n",
       "      <td>1</td>\n",
       "      <td>1</td>\n",
       "      <td>1</td>\n",
       "    </tr>\n",
       "  </tbody>\n",
       "</table>\n",
       "<p>2 rows × 1168 columns</p>\n",
       "</div>"
      ],
      "text/plain": [
       "                                                 train-0  \\\n",
       "text   why houston flooding isn‘t a sign of climate c...   \n",
       "label                                                  1   \n",
       "\n",
       "                                                 train-1  \\\n",
       "text   The U.N. Intergovernmental Panel on Climate Ch...   \n",
       "label                                                  1   \n",
       "\n",
       "                                                 train-2  \\\n",
       "text   Bureau Now Sets Strict Limits on Cooling\\nOVER...   \n",
       "label                                                  1   \n",
       "\n",
       "                                                 train-3  \\\n",
       "text   The Dirty Extractive Underbelly of Clean Energ...   \n",
       "label                                                  1   \n",
       "\n",
       "                                                 train-4  \\\n",
       "text   why climate change seems to have faded from th...   \n",
       "label                                                  1   \n",
       "\n",
       "                                                 train-5  \\\n",
       "text   ipcc achieves zero credibility - our coalition...   \n",
       "label                                                  1   \n",
       "\n",
       "                                                 train-6  \\\n",
       "text   Riots in Chile forced Chilean President Sebast...   \n",
       "label                                                  1   \n",
       "\n",
       "                                                 train-7  \\\n",
       "text   claims of climate calamities made 100 months a...   \n",
       "label                                                  1   \n",
       "\n",
       "                                                 train-8  \\\n",
       "text   Bureau’s Report Beyond Belief\\nThe release of ...   \n",
       "label                                                  1   \n",
       "\n",
       "                                                 train-9  ...  \\\n",
       "text   the climate change emergency is a pagan cult\\n...  ...   \n",
       "label                                                  1  ...   \n",
       "\n",
       "                                              train-1158  \\\n",
       "text   Led by Colorado Attorney General (AG) Cynthia ...   \n",
       "label                                                  1   \n",
       "\n",
       "                                              train-1159  \\\n",
       "text   earth day 2019 - not one single environmental ...   \n",
       "label                                                  1   \n",
       "\n",
       "                                              train-1160  \\\n",
       "text   what navigator captain james cook might have s...   \n",
       "label                                                  1   \n",
       "\n",
       "                                              train-1161  \\\n",
       "text   an avalanche of global warming alarmism is abo...   \n",
       "label                                                  1   \n",
       "\n",
       "                                              train-1162  \\\n",
       "text   the world isn't going to halve co2 emissions b...   \n",
       "label                                                  1   \n",
       "\n",
       "                                              train-1163  \\\n",
       "text   From Alberta to Australia, from Finland to Fra...   \n",
       "label                                                  1   \n",
       "\n",
       "                                              train-1164  \\\n",
       "text   Lake Tahoe is enjoying a third consecutive yea...   \n",
       "label                                                  1   \n",
       "\n",
       "                                              train-1165  \\\n",
       "text   New climate tests for pipelines are unnecessar...   \n",
       "label                                                  1   \n",
       "\n",
       "                                              train-1166  \\\n",
       "text   Al Gore Claims Wind and Solar are Now Cheaper ...   \n",
       "label                                                  1   \n",
       "\n",
       "                                              train-1167  \n",
       "text   This paper from Bruce Colbert, executive direc...  \n",
       "label                                                  1  \n",
       "\n",
       "[2 rows x 1168 columns]"
      ]
     },
     "execution_count": 3,
     "metadata": {},
     "output_type": "execute_result"
    }
   ],
   "source": [
    "#Read the data\n",
    "df=pd.read_json('train.json')\n",
    "#Get shape and head\n",
    "df.shape\n",
    "df.head()"
   ]
  },
  {
   "cell_type": "code",
   "execution_count": 4,
   "metadata": {},
   "outputs": [
    {
     "data": {
      "text/html": [
       "<div>\n",
       "<style scoped>\n",
       "    .dataframe tbody tr th:only-of-type {\n",
       "        vertical-align: middle;\n",
       "    }\n",
       "\n",
       "    .dataframe tbody tr th {\n",
       "        vertical-align: top;\n",
       "    }\n",
       "\n",
       "    .dataframe thead th {\n",
       "        text-align: right;\n",
       "    }\n",
       "</style>\n",
       "<table border=\"1\" class=\"dataframe\">\n",
       "  <thead>\n",
       "    <tr style=\"text-align: right;\">\n",
       "      <th></th>\n",
       "      <th>external-0</th>\n",
       "      <th>external-1</th>\n",
       "      <th>external-2</th>\n",
       "      <th>external-3</th>\n",
       "      <th>external-4</th>\n",
       "      <th>external-5</th>\n",
       "      <th>external-6</th>\n",
       "      <th>external-7</th>\n",
       "      <th>external-8</th>\n",
       "      <th>external-9</th>\n",
       "      <th>...</th>\n",
       "      <th>external-1158</th>\n",
       "      <th>external-1159</th>\n",
       "      <th>external-1160</th>\n",
       "      <th>external-1161</th>\n",
       "      <th>external-1162</th>\n",
       "      <th>external-1163</th>\n",
       "      <th>external-1164</th>\n",
       "      <th>external-1165</th>\n",
       "      <th>external-1166</th>\n",
       "      <th>external-1167</th>\n",
       "    </tr>\n",
       "  </thead>\n",
       "  <tbody>\n",
       "    <tr>\n",
       "      <th>text</th>\n",
       "      <td>ISLAMABAD: Finance Minister Ishaq Dar presente...</td>\n",
       "      <td>ISLAMABAD: As Senate Chairman Raza Rabbani rul...</td>\n",
       "      <td>NEW DELHI: India unveiled a fire-fighting budg...</td>\n",
       "      <td>strong&gt;ISLAMABAD: Prime Minister Nawaz Sharif ...</td>\n",
       "      <td>strong&gt;LONDON/NEW DELHI/MOSCOW: A multi-billio...</td>\n",
       "      <td>strong&gt;GENEVA/LONDON: In a packed Christie's a...</td>\n",
       "      <td>strong&gt;KARACHI: Fakhar Zaman slammed a spectac...</td>\n",
       "      <td>strong&gt;NEW DELHI/MUMBAI: Anil Ambani's Relianc...</td>\n",
       "      <td>strong&gt;LONDON/JAKARTA: Some of the world's big...</td>\n",
       "      <td>strong&gt;NEW YORK/LONDON: Global capital markets...</td>\n",
       "      <td>...</td>\n",
       "      <td>strong&gt;TOKYO: US oil prices fell in Asian trad...</td>\n",
       "      <td>strong&gt;MANCHESTER: England moved relentlessly ...</td>\n",
       "      <td>London: The oil market rose on Friday but gain...</td>\n",
       "      <td>strong&gt;Lionel Messi looks likely to miss Argen...</td>\n",
       "      <td>strong&gt;Hong Kong: The dollar retreated against...</td>\n",
       "      <td>MUMBAI: West Indies displayed an astonishing b...</td>\n",
       "      <td>strong&gt;DUBAI: It´s been an eventful few days f...</td>\n",
       "      <td>strong&gt;DUBAI: It´s been an eventful few days f...</td>\n",
       "      <td>strong&gt;DUBAI: It´s been an eventful few days f...</td>\n",
       "      <td>Hong Kong: Asian markets mostly recovered Thur...</td>\n",
       "    </tr>\n",
       "    <tr>\n",
       "      <th>label</th>\n",
       "      <td>0</td>\n",
       "      <td>0</td>\n",
       "      <td>0</td>\n",
       "      <td>0</td>\n",
       "      <td>0</td>\n",
       "      <td>0</td>\n",
       "      <td>0</td>\n",
       "      <td>0</td>\n",
       "      <td>0</td>\n",
       "      <td>0</td>\n",
       "      <td>...</td>\n",
       "      <td>0</td>\n",
       "      <td>0</td>\n",
       "      <td>0</td>\n",
       "      <td>0</td>\n",
       "      <td>0</td>\n",
       "      <td>0</td>\n",
       "      <td>0</td>\n",
       "      <td>0</td>\n",
       "      <td>0</td>\n",
       "      <td>0</td>\n",
       "    </tr>\n",
       "  </tbody>\n",
       "</table>\n",
       "<p>2 rows × 1168 columns</p>\n",
       "</div>"
      ],
      "text/plain": [
       "                                              external-0  \\\n",
       "text   ISLAMABAD: Finance Minister Ishaq Dar presente...   \n",
       "label                                                  0   \n",
       "\n",
       "                                              external-1  \\\n",
       "text   ISLAMABAD: As Senate Chairman Raza Rabbani rul...   \n",
       "label                                                  0   \n",
       "\n",
       "                                              external-2  \\\n",
       "text   NEW DELHI: India unveiled a fire-fighting budg...   \n",
       "label                                                  0   \n",
       "\n",
       "                                              external-3  \\\n",
       "text   strong>ISLAMABAD: Prime Minister Nawaz Sharif ...   \n",
       "label                                                  0   \n",
       "\n",
       "                                              external-4  \\\n",
       "text   strong>LONDON/NEW DELHI/MOSCOW: A multi-billio...   \n",
       "label                                                  0   \n",
       "\n",
       "                                              external-5  \\\n",
       "text   strong>GENEVA/LONDON: In a packed Christie's a...   \n",
       "label                                                  0   \n",
       "\n",
       "                                              external-6  \\\n",
       "text   strong>KARACHI: Fakhar Zaman slammed a spectac...   \n",
       "label                                                  0   \n",
       "\n",
       "                                              external-7  \\\n",
       "text   strong>NEW DELHI/MUMBAI: Anil Ambani's Relianc...   \n",
       "label                                                  0   \n",
       "\n",
       "                                              external-8  \\\n",
       "text   strong>LONDON/JAKARTA: Some of the world's big...   \n",
       "label                                                  0   \n",
       "\n",
       "                                              external-9  ...  \\\n",
       "text   strong>NEW YORK/LONDON: Global capital markets...  ...   \n",
       "label                                                  0  ...   \n",
       "\n",
       "                                           external-1158  \\\n",
       "text   strong>TOKYO: US oil prices fell in Asian trad...   \n",
       "label                                                  0   \n",
       "\n",
       "                                           external-1159  \\\n",
       "text   strong>MANCHESTER: England moved relentlessly ...   \n",
       "label                                                  0   \n",
       "\n",
       "                                           external-1160  \\\n",
       "text   London: The oil market rose on Friday but gain...   \n",
       "label                                                  0   \n",
       "\n",
       "                                           external-1161  \\\n",
       "text   strong>Lionel Messi looks likely to miss Argen...   \n",
       "label                                                  0   \n",
       "\n",
       "                                           external-1162  \\\n",
       "text   strong>Hong Kong: The dollar retreated against...   \n",
       "label                                                  0   \n",
       "\n",
       "                                           external-1163  \\\n",
       "text   MUMBAI: West Indies displayed an astonishing b...   \n",
       "label                                                  0   \n",
       "\n",
       "                                           external-1164  \\\n",
       "text   strong>DUBAI: It´s been an eventful few days f...   \n",
       "label                                                  0   \n",
       "\n",
       "                                           external-1165  \\\n",
       "text   strong>DUBAI: It´s been an eventful few days f...   \n",
       "label                                                  0   \n",
       "\n",
       "                                           external-1166  \\\n",
       "text   strong>DUBAI: It´s been an eventful few days f...   \n",
       "label                                                  0   \n",
       "\n",
       "                                           external-1167  \n",
       "text   Hong Kong: Asian markets mostly recovered Thur...  \n",
       "label                                                  0  \n",
       "\n",
       "[2 rows x 1168 columns]"
      ]
     },
     "execution_count": 4,
     "metadata": {},
     "output_type": "execute_result"
    }
   ],
   "source": [
    "#Read the data\n",
    "df2=pd.read_json('external_data.json')\n",
    "#Get shape and head\n",
    "df2.shape\n",
    "df2.head()"
   ]
  },
  {
   "cell_type": "code",
   "execution_count": 5,
   "metadata": {},
   "outputs": [],
   "source": [
    "df1=df.T"
   ]
  },
  {
   "cell_type": "code",
   "execution_count": 6,
   "metadata": {},
   "outputs": [
    {
     "data": {
      "text/html": [
       "<div>\n",
       "<style scoped>\n",
       "    .dataframe tbody tr th:only-of-type {\n",
       "        vertical-align: middle;\n",
       "    }\n",
       "\n",
       "    .dataframe tbody tr th {\n",
       "        vertical-align: top;\n",
       "    }\n",
       "\n",
       "    .dataframe thead th {\n",
       "        text-align: right;\n",
       "    }\n",
       "</style>\n",
       "<table border=\"1\" class=\"dataframe\">\n",
       "  <thead>\n",
       "    <tr style=\"text-align: right;\">\n",
       "      <th></th>\n",
       "      <th>text</th>\n",
       "      <th>label</th>\n",
       "    </tr>\n",
       "  </thead>\n",
       "  <tbody>\n",
       "    <tr>\n",
       "      <th>train-0</th>\n",
       "      <td>why houston flooding isn‘t a sign of climate c...</td>\n",
       "      <td>1</td>\n",
       "    </tr>\n",
       "    <tr>\n",
       "      <th>train-1</th>\n",
       "      <td>The U.N. Intergovernmental Panel on Climate Ch...</td>\n",
       "      <td>1</td>\n",
       "    </tr>\n",
       "    <tr>\n",
       "      <th>train-2</th>\n",
       "      <td>Bureau Now Sets Strict Limits on Cooling\\nOVER...</td>\n",
       "      <td>1</td>\n",
       "    </tr>\n",
       "    <tr>\n",
       "      <th>train-3</th>\n",
       "      <td>The Dirty Extractive Underbelly of Clean Energ...</td>\n",
       "      <td>1</td>\n",
       "    </tr>\n",
       "    <tr>\n",
       "      <th>train-4</th>\n",
       "      <td>why climate change seems to have faded from th...</td>\n",
       "      <td>1</td>\n",
       "    </tr>\n",
       "    <tr>\n",
       "      <th>...</th>\n",
       "      <td>...</td>\n",
       "      <td>...</td>\n",
       "    </tr>\n",
       "    <tr>\n",
       "      <th>train-1163</th>\n",
       "      <td>From Alberta to Australia, from Finland to Fra...</td>\n",
       "      <td>1</td>\n",
       "    </tr>\n",
       "    <tr>\n",
       "      <th>train-1164</th>\n",
       "      <td>Lake Tahoe is enjoying a third consecutive yea...</td>\n",
       "      <td>1</td>\n",
       "    </tr>\n",
       "    <tr>\n",
       "      <th>train-1165</th>\n",
       "      <td>New climate tests for pipelines are unnecessar...</td>\n",
       "      <td>1</td>\n",
       "    </tr>\n",
       "    <tr>\n",
       "      <th>train-1166</th>\n",
       "      <td>Al Gore Claims Wind and Solar are Now Cheaper ...</td>\n",
       "      <td>1</td>\n",
       "    </tr>\n",
       "    <tr>\n",
       "      <th>train-1167</th>\n",
       "      <td>This paper from Bruce Colbert, executive direc...</td>\n",
       "      <td>1</td>\n",
       "    </tr>\n",
       "  </tbody>\n",
       "</table>\n",
       "<p>1168 rows × 2 columns</p>\n",
       "</div>"
      ],
      "text/plain": [
       "                                                         text label\n",
       "train-0     why houston flooding isn‘t a sign of climate c...     1\n",
       "train-1     The U.N. Intergovernmental Panel on Climate Ch...     1\n",
       "train-2     Bureau Now Sets Strict Limits on Cooling\\nOVER...     1\n",
       "train-3     The Dirty Extractive Underbelly of Clean Energ...     1\n",
       "train-4     why climate change seems to have faded from th...     1\n",
       "...                                                       ...   ...\n",
       "train-1163  From Alberta to Australia, from Finland to Fra...     1\n",
       "train-1164  Lake Tahoe is enjoying a third consecutive yea...     1\n",
       "train-1165  New climate tests for pipelines are unnecessar...     1\n",
       "train-1166  Al Gore Claims Wind and Solar are Now Cheaper ...     1\n",
       "train-1167  This paper from Bruce Colbert, executive direc...     1\n",
       "\n",
       "[1168 rows x 2 columns]"
      ]
     },
     "execution_count": 6,
     "metadata": {},
     "output_type": "execute_result"
    }
   ],
   "source": [
    "df1"
   ]
  },
  {
   "cell_type": "code",
   "execution_count": 7,
   "metadata": {},
   "outputs": [],
   "source": [
    "df3=df2.T"
   ]
  },
  {
   "cell_type": "code",
   "execution_count": 8,
   "metadata": {},
   "outputs": [
    {
     "data": {
      "text/html": [
       "<div>\n",
       "<style scoped>\n",
       "    .dataframe tbody tr th:only-of-type {\n",
       "        vertical-align: middle;\n",
       "    }\n",
       "\n",
       "    .dataframe tbody tr th {\n",
       "        vertical-align: top;\n",
       "    }\n",
       "\n",
       "    .dataframe thead th {\n",
       "        text-align: right;\n",
       "    }\n",
       "</style>\n",
       "<table border=\"1\" class=\"dataframe\">\n",
       "  <thead>\n",
       "    <tr style=\"text-align: right;\">\n",
       "      <th></th>\n",
       "      <th>text</th>\n",
       "      <th>label</th>\n",
       "    </tr>\n",
       "  </thead>\n",
       "  <tbody>\n",
       "    <tr>\n",
       "      <th>external-0</th>\n",
       "      <td>ISLAMABAD: Finance Minister Ishaq Dar presente...</td>\n",
       "      <td>0</td>\n",
       "    </tr>\n",
       "    <tr>\n",
       "      <th>external-1</th>\n",
       "      <td>ISLAMABAD: As Senate Chairman Raza Rabbani rul...</td>\n",
       "      <td>0</td>\n",
       "    </tr>\n",
       "    <tr>\n",
       "      <th>external-2</th>\n",
       "      <td>NEW DELHI: India unveiled a fire-fighting budg...</td>\n",
       "      <td>0</td>\n",
       "    </tr>\n",
       "    <tr>\n",
       "      <th>external-3</th>\n",
       "      <td>strong&gt;ISLAMABAD: Prime Minister Nawaz Sharif ...</td>\n",
       "      <td>0</td>\n",
       "    </tr>\n",
       "    <tr>\n",
       "      <th>external-4</th>\n",
       "      <td>strong&gt;LONDON/NEW DELHI/MOSCOW: A multi-billio...</td>\n",
       "      <td>0</td>\n",
       "    </tr>\n",
       "    <tr>\n",
       "      <th>...</th>\n",
       "      <td>...</td>\n",
       "      <td>...</td>\n",
       "    </tr>\n",
       "    <tr>\n",
       "      <th>external-1163</th>\n",
       "      <td>MUMBAI: West Indies displayed an astonishing b...</td>\n",
       "      <td>0</td>\n",
       "    </tr>\n",
       "    <tr>\n",
       "      <th>external-1164</th>\n",
       "      <td>strong&gt;DUBAI: It´s been an eventful few days f...</td>\n",
       "      <td>0</td>\n",
       "    </tr>\n",
       "    <tr>\n",
       "      <th>external-1165</th>\n",
       "      <td>strong&gt;DUBAI: It´s been an eventful few days f...</td>\n",
       "      <td>0</td>\n",
       "    </tr>\n",
       "    <tr>\n",
       "      <th>external-1166</th>\n",
       "      <td>strong&gt;DUBAI: It´s been an eventful few days f...</td>\n",
       "      <td>0</td>\n",
       "    </tr>\n",
       "    <tr>\n",
       "      <th>external-1167</th>\n",
       "      <td>Hong Kong: Asian markets mostly recovered Thur...</td>\n",
       "      <td>0</td>\n",
       "    </tr>\n",
       "  </tbody>\n",
       "</table>\n",
       "<p>1168 rows × 2 columns</p>\n",
       "</div>"
      ],
      "text/plain": [
       "                                                            text label\n",
       "external-0     ISLAMABAD: Finance Minister Ishaq Dar presente...     0\n",
       "external-1     ISLAMABAD: As Senate Chairman Raza Rabbani rul...     0\n",
       "external-2     NEW DELHI: India unveiled a fire-fighting budg...     0\n",
       "external-3     strong>ISLAMABAD: Prime Minister Nawaz Sharif ...     0\n",
       "external-4     strong>LONDON/NEW DELHI/MOSCOW: A multi-billio...     0\n",
       "...                                                          ...   ...\n",
       "external-1163  MUMBAI: West Indies displayed an astonishing b...     0\n",
       "external-1164  strong>DUBAI: It´s been an eventful few days f...     0\n",
       "external-1165  strong>DUBAI: It´s been an eventful few days f...     0\n",
       "external-1166  strong>DUBAI: It´s been an eventful few days f...     0\n",
       "external-1167  Hong Kong: Asian markets mostly recovered Thur...     0\n",
       "\n",
       "[1168 rows x 2 columns]"
      ]
     },
     "execution_count": 8,
     "metadata": {},
     "output_type": "execute_result"
    }
   ],
   "source": [
    "df3"
   ]
  },
  {
   "cell_type": "code",
   "execution_count": 9,
   "metadata": {},
   "outputs": [],
   "source": [
    "df4=pd.concat([df1,df3])"
   ]
  },
  {
   "cell_type": "code",
   "execution_count": 10,
   "metadata": {},
   "outputs": [
    {
     "data": {
      "text/html": [
       "<div>\n",
       "<style scoped>\n",
       "    .dataframe tbody tr th:only-of-type {\n",
       "        vertical-align: middle;\n",
       "    }\n",
       "\n",
       "    .dataframe tbody tr th {\n",
       "        vertical-align: top;\n",
       "    }\n",
       "\n",
       "    .dataframe thead th {\n",
       "        text-align: right;\n",
       "    }\n",
       "</style>\n",
       "<table border=\"1\" class=\"dataframe\">\n",
       "  <thead>\n",
       "    <tr style=\"text-align: right;\">\n",
       "      <th></th>\n",
       "      <th>text</th>\n",
       "      <th>label</th>\n",
       "    </tr>\n",
       "  </thead>\n",
       "  <tbody>\n",
       "    <tr>\n",
       "      <th>0</th>\n",
       "      <td>why houston flooding isn‘t a sign of climate c...</td>\n",
       "      <td>1</td>\n",
       "    </tr>\n",
       "    <tr>\n",
       "      <th>1</th>\n",
       "      <td>The U.N. Intergovernmental Panel on Climate Ch...</td>\n",
       "      <td>1</td>\n",
       "    </tr>\n",
       "    <tr>\n",
       "      <th>2</th>\n",
       "      <td>Bureau Now Sets Strict Limits on Cooling\\nOVER...</td>\n",
       "      <td>1</td>\n",
       "    </tr>\n",
       "    <tr>\n",
       "      <th>3</th>\n",
       "      <td>The Dirty Extractive Underbelly of Clean Energ...</td>\n",
       "      <td>1</td>\n",
       "    </tr>\n",
       "    <tr>\n",
       "      <th>4</th>\n",
       "      <td>why climate change seems to have faded from th...</td>\n",
       "      <td>1</td>\n",
       "    </tr>\n",
       "    <tr>\n",
       "      <th>...</th>\n",
       "      <td>...</td>\n",
       "      <td>...</td>\n",
       "    </tr>\n",
       "    <tr>\n",
       "      <th>2331</th>\n",
       "      <td>MUMBAI: West Indies displayed an astonishing b...</td>\n",
       "      <td>0</td>\n",
       "    </tr>\n",
       "    <tr>\n",
       "      <th>2332</th>\n",
       "      <td>strong&gt;DUBAI: It´s been an eventful few days f...</td>\n",
       "      <td>0</td>\n",
       "    </tr>\n",
       "    <tr>\n",
       "      <th>2333</th>\n",
       "      <td>strong&gt;DUBAI: It´s been an eventful few days f...</td>\n",
       "      <td>0</td>\n",
       "    </tr>\n",
       "    <tr>\n",
       "      <th>2334</th>\n",
       "      <td>strong&gt;DUBAI: It´s been an eventful few days f...</td>\n",
       "      <td>0</td>\n",
       "    </tr>\n",
       "    <tr>\n",
       "      <th>2335</th>\n",
       "      <td>Hong Kong: Asian markets mostly recovered Thur...</td>\n",
       "      <td>0</td>\n",
       "    </tr>\n",
       "  </tbody>\n",
       "</table>\n",
       "<p>2336 rows × 2 columns</p>\n",
       "</div>"
      ],
      "text/plain": [
       "                                                   text  label\n",
       "0     why houston flooding isn‘t a sign of climate c...      1\n",
       "1     The U.N. Intergovernmental Panel on Climate Ch...      1\n",
       "2     Bureau Now Sets Strict Limits on Cooling\\nOVER...      1\n",
       "3     The Dirty Extractive Underbelly of Clean Energ...      1\n",
       "4     why climate change seems to have faded from th...      1\n",
       "...                                                 ...    ...\n",
       "2331  MUMBAI: West Indies displayed an astonishing b...      0\n",
       "2332  strong>DUBAI: It´s been an eventful few days f...      0\n",
       "2333  strong>DUBAI: It´s been an eventful few days f...      0\n",
       "2334  strong>DUBAI: It´s been an eventful few days f...      0\n",
       "2335  Hong Kong: Asian markets mostly recovered Thur...      0\n",
       "\n",
       "[2336 rows x 2 columns]"
      ]
     },
     "execution_count": 10,
     "metadata": {},
     "output_type": "execute_result"
    }
   ],
   "source": [
    "df4.to_json('newtrain.json', orient='records')\n",
    "newtrain = pd.read_json('newtrain.json')\n",
    "newtrain"
   ]
  },
  {
   "cell_type": "code",
   "execution_count": 11,
   "metadata": {},
   "outputs": [],
   "source": [
    "#DataFlair - Get the labels\n",
    "labels=newtrain.label\n",
    "labels.head()\n",
    "labels=labels.astype('int')"
   ]
  },
  {
   "cell_type": "code",
   "execution_count": 12,
   "metadata": {},
   "outputs": [
    {
     "name": "stdout",
     "output_type": "stream",
     "text": [
      "                                                   text  label\n",
      "1168  ISLAMABAD: Finance Minister Ishaq Dar presente...      0\n",
      "1169  ISLAMABAD: As Senate Chairman Raza Rabbani rul...      0\n",
      "1170  NEW DELHI: India unveiled a fire-fighting budg...      0\n",
      "1171  strong>ISLAMABAD: Prime Minister Nawaz Sharif ...      0\n",
      "1172  strong>LONDON/NEW DELHI/MOSCOW: A multi-billio...      0\n",
      "...                                                 ...    ...\n",
      "2331  MUMBAI: West Indies displayed an astonishing b...      0\n",
      "2332  strong>DUBAI: It´s been an eventful few days f...      0\n",
      "2333  strong>DUBAI: It´s been an eventful few days f...      0\n",
      "2334  strong>DUBAI: It´s been an eventful few days f...      0\n",
      "2335  Hong Kong: Asian markets mostly recovered Thur...      0\n",
      "\n",
      "[1168 rows x 2 columns]\n"
     ]
    }
   ],
   "source": [
    "zero = newtrain['label'] == 0\n",
    "zero2 = newtrain[zero]\n",
    "print(zero2)"
   ]
  },
  {
   "cell_type": "code",
   "execution_count": 13,
   "metadata": {},
   "outputs": [
    {
     "data": {
      "text/html": [
       "<div>\n",
       "<style scoped>\n",
       "    .dataframe tbody tr th:only-of-type {\n",
       "        vertical-align: middle;\n",
       "    }\n",
       "\n",
       "    .dataframe tbody tr th {\n",
       "        vertical-align: top;\n",
       "    }\n",
       "\n",
       "    .dataframe thead th {\n",
       "        text-align: right;\n",
       "    }\n",
       "</style>\n",
       "<table border=\"1\" class=\"dataframe\">\n",
       "  <thead>\n",
       "    <tr style=\"text-align: right;\">\n",
       "      <th></th>\n",
       "      <th>text</th>\n",
       "      <th>label</th>\n",
       "    </tr>\n",
       "  </thead>\n",
       "  <tbody>\n",
       "    <tr>\n",
       "      <th>dev-0</th>\n",
       "      <td>Are Climate Models Overpredicting Global Warmi...</td>\n",
       "      <td>1</td>\n",
       "    </tr>\n",
       "    <tr>\n",
       "      <th>dev-1</th>\n",
       "      <td>The latest National Climate Assessment, releas...</td>\n",
       "      <td>1</td>\n",
       "    </tr>\n",
       "    <tr>\n",
       "      <th>dev-2</th>\n",
       "      <td>Climate Strike Kids Cool on Real Action\\nA pop...</td>\n",
       "      <td>1</td>\n",
       "    </tr>\n",
       "    <tr>\n",
       "      <th>dev-3</th>\n",
       "      <td>Morrison a ‘predatory’ centrist on climate pol...</td>\n",
       "      <td>0</td>\n",
       "    </tr>\n",
       "    <tr>\n",
       "      <th>dev-4</th>\n",
       "      <td>CNN’s Town Hall Full of Hot Air\\nSixty-three s...</td>\n",
       "      <td>1</td>\n",
       "    </tr>\n",
       "    <tr>\n",
       "      <th>...</th>\n",
       "      <td>...</td>\n",
       "      <td>...</td>\n",
       "    </tr>\n",
       "    <tr>\n",
       "      <th>dev-95</th>\n",
       "      <td>Texas Man Guilty of Kidnapping Still-Missing W...</td>\n",
       "      <td>0</td>\n",
       "    </tr>\n",
       "    <tr>\n",
       "      <th>dev-96</th>\n",
       "      <td>Climate campaigners condemn 'insidious' cockta...</td>\n",
       "      <td>0</td>\n",
       "    </tr>\n",
       "    <tr>\n",
       "      <th>dev-97</th>\n",
       "      <td>Forget the climate emergency: they need a Pied...</td>\n",
       "      <td>1</td>\n",
       "    </tr>\n",
       "    <tr>\n",
       "      <th>dev-98</th>\n",
       "      <td>Why don’t we treat the climate crisis with the...</td>\n",
       "      <td>0</td>\n",
       "    </tr>\n",
       "    <tr>\n",
       "      <th>dev-99</th>\n",
       "      <td>Even if You Buy the Science, the Policy Still ...</td>\n",
       "      <td>1</td>\n",
       "    </tr>\n",
       "  </tbody>\n",
       "</table>\n",
       "<p>100 rows × 2 columns</p>\n",
       "</div>"
      ],
      "text/plain": [
       "                                                     text label\n",
       "dev-0   Are Climate Models Overpredicting Global Warmi...     1\n",
       "dev-1   The latest National Climate Assessment, releas...     1\n",
       "dev-2   Climate Strike Kids Cool on Real Action\\nA pop...     1\n",
       "dev-3   Morrison a ‘predatory’ centrist on climate pol...     0\n",
       "dev-4   CNN’s Town Hall Full of Hot Air\\nSixty-three s...     1\n",
       "...                                                   ...   ...\n",
       "dev-95  Texas Man Guilty of Kidnapping Still-Missing W...     0\n",
       "dev-96  Climate campaigners condemn 'insidious' cockta...     0\n",
       "dev-97  Forget the climate emergency: they need a Pied...     1\n",
       "dev-98  Why don’t we treat the climate crisis with the...     0\n",
       "dev-99  Even if You Buy the Science, the Policy Still ...     1\n",
       "\n",
       "[100 rows x 2 columns]"
      ]
     },
     "execution_count": 13,
     "metadata": {},
     "output_type": "execute_result"
    }
   ],
   "source": [
    "dev_df=pd.read_json('dev.json')\n",
    "dev_df1=dev_df.T\n",
    "dev_df1"
   ]
  },
  {
   "cell_type": "code",
   "execution_count": 14,
   "metadata": {},
   "outputs": [],
   "source": [
    "#DataFlair - Get the labels\n",
    "dev_labels=dev_df1.label\n",
    "dev_labels.head()\n",
    "dev_labels=dev_labels.astype('int')"
   ]
  },
  {
   "cell_type": "code",
   "execution_count": 15,
   "metadata": {},
   "outputs": [
    {
     "data": {
      "text/html": [
       "<div>\n",
       "<style scoped>\n",
       "    .dataframe tbody tr th:only-of-type {\n",
       "        vertical-align: middle;\n",
       "    }\n",
       "\n",
       "    .dataframe tbody tr th {\n",
       "        vertical-align: top;\n",
       "    }\n",
       "\n",
       "    .dataframe thead th {\n",
       "        text-align: right;\n",
       "    }\n",
       "</style>\n",
       "<table border=\"1\" class=\"dataframe\">\n",
       "  <thead>\n",
       "    <tr style=\"text-align: right;\">\n",
       "      <th></th>\n",
       "      <th>text</th>\n",
       "      <th>label</th>\n",
       "    </tr>\n",
       "  </thead>\n",
       "  <tbody>\n",
       "    <tr>\n",
       "      <th>0</th>\n",
       "      <td>Are Climate Models Overpredicting Global Warmi...</td>\n",
       "      <td>1</td>\n",
       "    </tr>\n",
       "    <tr>\n",
       "      <th>1</th>\n",
       "      <td>The latest National Climate Assessment, releas...</td>\n",
       "      <td>1</td>\n",
       "    </tr>\n",
       "    <tr>\n",
       "      <th>2</th>\n",
       "      <td>Climate Strike Kids Cool on Real Action\\nA pop...</td>\n",
       "      <td>1</td>\n",
       "    </tr>\n",
       "    <tr>\n",
       "      <th>3</th>\n",
       "      <td>Morrison a ‘predatory’ centrist on climate pol...</td>\n",
       "      <td>0</td>\n",
       "    </tr>\n",
       "    <tr>\n",
       "      <th>4</th>\n",
       "      <td>CNN’s Town Hall Full of Hot Air\\nSixty-three s...</td>\n",
       "      <td>1</td>\n",
       "    </tr>\n",
       "    <tr>\n",
       "      <th>...</th>\n",
       "      <td>...</td>\n",
       "      <td>...</td>\n",
       "    </tr>\n",
       "    <tr>\n",
       "      <th>95</th>\n",
       "      <td>Texas Man Guilty of Kidnapping Still-Missing W...</td>\n",
       "      <td>0</td>\n",
       "    </tr>\n",
       "    <tr>\n",
       "      <th>96</th>\n",
       "      <td>Climate campaigners condemn 'insidious' cockta...</td>\n",
       "      <td>0</td>\n",
       "    </tr>\n",
       "    <tr>\n",
       "      <th>97</th>\n",
       "      <td>Forget the climate emergency: they need a Pied...</td>\n",
       "      <td>1</td>\n",
       "    </tr>\n",
       "    <tr>\n",
       "      <th>98</th>\n",
       "      <td>Why don’t we treat the climate crisis with the...</td>\n",
       "      <td>0</td>\n",
       "    </tr>\n",
       "    <tr>\n",
       "      <th>99</th>\n",
       "      <td>Even if You Buy the Science, the Policy Still ...</td>\n",
       "      <td>1</td>\n",
       "    </tr>\n",
       "  </tbody>\n",
       "</table>\n",
       "<p>100 rows × 2 columns</p>\n",
       "</div>"
      ],
      "text/plain": [
       "                                                 text  label\n",
       "0   Are Climate Models Overpredicting Global Warmi...      1\n",
       "1   The latest National Climate Assessment, releas...      1\n",
       "2   Climate Strike Kids Cool on Real Action\\nA pop...      1\n",
       "3   Morrison a ‘predatory’ centrist on climate pol...      0\n",
       "4   CNN’s Town Hall Full of Hot Air\\nSixty-three s...      1\n",
       "..                                                ...    ...\n",
       "95  Texas Man Guilty of Kidnapping Still-Missing W...      0\n",
       "96  Climate campaigners condemn 'insidious' cockta...      0\n",
       "97  Forget the climate emergency: they need a Pied...      1\n",
       "98  Why don’t we treat the climate crisis with the...      0\n",
       "99  Even if You Buy the Science, the Policy Still ...      1\n",
       "\n",
       "[100 rows x 2 columns]"
      ]
     },
     "execution_count": 15,
     "metadata": {},
     "output_type": "execute_result"
    }
   ],
   "source": [
    "dev_df1.to_json('dev-1.json', orient='records')\n",
    "dev1 = pd.read_json('dev-1.json')\n",
    "dev1"
   ]
  },
  {
   "cell_type": "code",
   "execution_count": 16,
   "metadata": {},
   "outputs": [
    {
     "data": {
      "text/html": [
       "<div>\n",
       "<style scoped>\n",
       "    .dataframe tbody tr th:only-of-type {\n",
       "        vertical-align: middle;\n",
       "    }\n",
       "\n",
       "    .dataframe tbody tr th {\n",
       "        vertical-align: top;\n",
       "    }\n",
       "\n",
       "    .dataframe thead th {\n",
       "        text-align: right;\n",
       "    }\n",
       "</style>\n",
       "<table border=\"1\" class=\"dataframe\">\n",
       "  <thead>\n",
       "    <tr style=\"text-align: right;\">\n",
       "      <th></th>\n",
       "      <th>text</th>\n",
       "    </tr>\n",
       "  </thead>\n",
       "  <tbody>\n",
       "    <tr>\n",
       "      <th>test-0</th>\n",
       "      <td>Marketing Executive Somehow Unable To Stop, Pr...</td>\n",
       "    </tr>\n",
       "    <tr>\n",
       "      <th>test-1</th>\n",
       "      <td>WASHINGTON  Republican presidential front-runn...</td>\n",
       "    </tr>\n",
       "    <tr>\n",
       "      <th>test-2</th>\n",
       "      <td>Turkey Could Be Taking A Big Step Backwards In...</td>\n",
       "    </tr>\n",
       "    <tr>\n",
       "      <th>test-3</th>\n",
       "      <td>New York  Keep your kids away from these Santa...</td>\n",
       "    </tr>\n",
       "    <tr>\n",
       "      <th>test-4</th>\n",
       "      <td>Global warming is causing more frequent heatwa...</td>\n",
       "    </tr>\n",
       "    <tr>\n",
       "      <th>...</th>\n",
       "      <td>...</td>\n",
       "    </tr>\n",
       "    <tr>\n",
       "      <th>test-1405</th>\n",
       "      <td>Warwick asks voters to back radical council ta...</td>\n",
       "    </tr>\n",
       "    <tr>\n",
       "      <th>test-1406</th>\n",
       "      <td>Pele, Diego Maradona and Franz Beckenbaeur wil...</td>\n",
       "    </tr>\n",
       "    <tr>\n",
       "      <th>test-1407</th>\n",
       "      <td>Electric cars produce less CO2 than petrol veh...</td>\n",
       "    </tr>\n",
       "    <tr>\n",
       "      <th>test-1408</th>\n",
       "      <td>Latest Climate Report Feeds into Alarmist Fear...</td>\n",
       "    </tr>\n",
       "    <tr>\n",
       "      <th>test-1409</th>\n",
       "      <td>Sarah Palin's teleprompter did freeze in Iowa ...</td>\n",
       "    </tr>\n",
       "  </tbody>\n",
       "</table>\n",
       "<p>1410 rows × 1 columns</p>\n",
       "</div>"
      ],
      "text/plain": [
       "                                                        text\n",
       "test-0     Marketing Executive Somehow Unable To Stop, Pr...\n",
       "test-1     WASHINGTON  Republican presidential front-runn...\n",
       "test-2     Turkey Could Be Taking A Big Step Backwards In...\n",
       "test-3     New York  Keep your kids away from these Santa...\n",
       "test-4     Global warming is causing more frequent heatwa...\n",
       "...                                                      ...\n",
       "test-1405  Warwick asks voters to back radical council ta...\n",
       "test-1406  Pele, Diego Maradona and Franz Beckenbaeur wil...\n",
       "test-1407  Electric cars produce less CO2 than petrol veh...\n",
       "test-1408  Latest Climate Report Feeds into Alarmist Fear...\n",
       "test-1409  Sarah Palin's teleprompter did freeze in Iowa ...\n",
       "\n",
       "[1410 rows x 1 columns]"
      ]
     },
     "execution_count": 16,
     "metadata": {},
     "output_type": "execute_result"
    }
   ],
   "source": [
    "test_df=pd.read_json('test-unlabelled.json')\n",
    "test_df1=test_df.T\n",
    "test_df1"
   ]
  },
  {
   "cell_type": "code",
   "execution_count": 17,
   "metadata": {},
   "outputs": [
    {
     "data": {
      "text/html": [
       "<div>\n",
       "<style scoped>\n",
       "    .dataframe tbody tr th:only-of-type {\n",
       "        vertical-align: middle;\n",
       "    }\n",
       "\n",
       "    .dataframe tbody tr th {\n",
       "        vertical-align: top;\n",
       "    }\n",
       "\n",
       "    .dataframe thead th {\n",
       "        text-align: right;\n",
       "    }\n",
       "</style>\n",
       "<table border=\"1\" class=\"dataframe\">\n",
       "  <thead>\n",
       "    <tr style=\"text-align: right;\">\n",
       "      <th></th>\n",
       "      <th>text</th>\n",
       "    </tr>\n",
       "  </thead>\n",
       "  <tbody>\n",
       "    <tr>\n",
       "      <th>0</th>\n",
       "      <td>Marketing Executive Somehow Unable To Stop, Pr...</td>\n",
       "    </tr>\n",
       "    <tr>\n",
       "      <th>1</th>\n",
       "      <td>WASHINGTON  Republican presidential front-runn...</td>\n",
       "    </tr>\n",
       "    <tr>\n",
       "      <th>2</th>\n",
       "      <td>Turkey Could Be Taking A Big Step Backwards In...</td>\n",
       "    </tr>\n",
       "    <tr>\n",
       "      <th>3</th>\n",
       "      <td>New York  Keep your kids away from these Santa...</td>\n",
       "    </tr>\n",
       "    <tr>\n",
       "      <th>4</th>\n",
       "      <td>Global warming is causing more frequent heatwa...</td>\n",
       "    </tr>\n",
       "    <tr>\n",
       "      <th>...</th>\n",
       "      <td>...</td>\n",
       "    </tr>\n",
       "    <tr>\n",
       "      <th>1405</th>\n",
       "      <td>Warwick asks voters to back radical council ta...</td>\n",
       "    </tr>\n",
       "    <tr>\n",
       "      <th>1406</th>\n",
       "      <td>Pele, Diego Maradona and Franz Beckenbaeur wil...</td>\n",
       "    </tr>\n",
       "    <tr>\n",
       "      <th>1407</th>\n",
       "      <td>Electric cars produce less CO2 than petrol veh...</td>\n",
       "    </tr>\n",
       "    <tr>\n",
       "      <th>1408</th>\n",
       "      <td>Latest Climate Report Feeds into Alarmist Fear...</td>\n",
       "    </tr>\n",
       "    <tr>\n",
       "      <th>1409</th>\n",
       "      <td>Sarah Palin's teleprompter did freeze in Iowa ...</td>\n",
       "    </tr>\n",
       "  </tbody>\n",
       "</table>\n",
       "<p>1410 rows × 1 columns</p>\n",
       "</div>"
      ],
      "text/plain": [
       "                                                   text\n",
       "0     Marketing Executive Somehow Unable To Stop, Pr...\n",
       "1     WASHINGTON  Republican presidential front-runn...\n",
       "2     Turkey Could Be Taking A Big Step Backwards In...\n",
       "3     New York  Keep your kids away from these Santa...\n",
       "4     Global warming is causing more frequent heatwa...\n",
       "...                                                 ...\n",
       "1405  Warwick asks voters to back radical council ta...\n",
       "1406  Pele, Diego Maradona and Franz Beckenbaeur wil...\n",
       "1407  Electric cars produce less CO2 than petrol veh...\n",
       "1408  Latest Climate Report Feeds into Alarmist Fear...\n",
       "1409  Sarah Palin's teleprompter did freeze in Iowa ...\n",
       "\n",
       "[1410 rows x 1 columns]"
      ]
     },
     "execution_count": 17,
     "metadata": {},
     "output_type": "execute_result"
    }
   ],
   "source": [
    "test_df1.to_json('test-unlabelled1.json', orient='records')\n",
    "test1 = pd.read_json('test-unlabelled1.json')\n",
    "test1"
   ]
  },
  {
   "cell_type": "code",
   "execution_count": 478,
   "metadata": {},
   "outputs": [],
   "source": []
  },
  {
   "cell_type": "code",
   "execution_count": 40,
   "metadata": {},
   "outputs": [
    {
     "data": {
      "text/plain": [
       "<100x9606 sparse matrix of type '<class 'numpy.float64'>'\n",
       "\twith 26064 stored elements in Compressed Sparse Row format>"
      ]
     },
     "execution_count": 40,
     "metadata": {},
     "output_type": "execute_result"
    }
   ],
   "source": [
    "#DataFlair - Initialize a TfidfVectorizer\n",
    "tfidf_vectorizer=TfidfVectorizer(stop_words='english', max_df=0.7)\n",
    "#DataFlair - Fit and transform train set, transform test set\n",
    "tfidf_train=tfidf_vectorizer.fit_transform(dev1['text'])\n",
    "tfidf_train"
   ]
  },
  {
   "cell_type": "code",
   "execution_count": 41,
   "metadata": {},
   "outputs": [],
   "source": [
    "#DataFlair - Split the dataset\n",
    "x_train,x_test,y_train,y_test=train_test_split(tfidf_train, dev1.label, test_size=0.3, random_state=7)\n",
    "y_train=y_train.astype('int')\n",
    "y_test=y_test.astype('int')"
   ]
  },
  {
   "cell_type": "code",
   "execution_count": 42,
   "metadata": {},
   "outputs": [
    {
     "name": "stderr",
     "output_type": "stream",
     "text": [
      "C:\\Users\\AMAR\\Anaconda3\\lib\\site-packages\\sklearn\\linear_model\\logistic.py:433: FutureWarning: Default solver will be changed to 'lbfgs' in 0.22. Specify a solver to silence this warning.\n",
      "  FutureWarning)\n"
     ]
    },
    {
     "data": {
      "text/plain": [
       "LogisticRegression(C=1.0, class_weight=None, dual=False, fit_intercept=True,\n",
       "          intercept_scaling=1, max_iter=100, multi_class='warn',\n",
       "          n_jobs=None, penalty='l2', random_state=None, solver='warn',\n",
       "          tol=0.0001, verbose=0, warm_start=False)"
      ]
     },
     "execution_count": 42,
     "metadata": {},
     "output_type": "execute_result"
    }
   ],
   "source": [
    "lr = LogisticRegression()\n",
    "lr.fit(x_train,y_train)"
   ]
  },
  {
   "cell_type": "code",
   "execution_count": 43,
   "metadata": {},
   "outputs": [
    {
     "name": "stdout",
     "output_type": "stream",
     "text": [
      "accuracy: 86.67%\n"
     ]
    }
   ],
   "source": [
    "lr_predict = lr.predict(x_test)\n",
    "print(\"accuracy: {}%\".format(round(accuracy_score(y_test, lr_predict)*100,2)))"
   ]
  },
  {
   "cell_type": "code",
   "execution_count": 44,
   "metadata": {},
   "outputs": [
    {
     "data": {
      "text/plain": [
       "LinearSVC(C=1.0, class_weight=None, dual=True, fit_intercept=True,\n",
       "     intercept_scaling=1, loss='squared_hinge', max_iter=1000,\n",
       "     multi_class='ovr', penalty='l2', random_state=None, tol=0.0001,\n",
       "     verbose=0)"
      ]
     },
     "execution_count": 44,
     "metadata": {},
     "output_type": "execute_result"
    }
   ],
   "source": [
    "svm = LinearSVC()\n",
    "svm.fit(x_train, y_train)"
   ]
  },
  {
   "cell_type": "code",
   "execution_count": 45,
   "metadata": {},
   "outputs": [
    {
     "name": "stdout",
     "output_type": "stream",
     "text": [
      "accuracy: 86.67%\n"
     ]
    }
   ],
   "source": [
    "svm_predict = svm.predict(x_test)\n",
    "print(\"accuracy: {}%\".format(round(accuracy_score(y_test, svm_predict)*100,2)))"
   ]
  },
  {
   "cell_type": "code",
   "execution_count": 46,
   "metadata": {},
   "outputs": [
    {
     "data": {
      "text/plain": [
       "MultinomialNB(alpha=1.0, class_prior=None, fit_prior=True)"
      ]
     },
     "execution_count": 46,
     "metadata": {},
     "output_type": "execute_result"
    }
   ],
   "source": [
    "mnb = MultinomialNB()\n",
    "mnb.fit(x_train, y_train)"
   ]
  },
  {
   "cell_type": "code",
   "execution_count": 47,
   "metadata": {},
   "outputs": [
    {
     "name": "stdout",
     "output_type": "stream",
     "text": [
      "accuracy: 70.0%\n"
     ]
    }
   ],
   "source": [
    "mnb_predict = mnb.predict(x_test)\n",
    "print(\"accuracy: {}%\".format(round(accuracy_score(y_test, mnb_predict)*100,2)))"
   ]
  },
  {
   "cell_type": "code",
   "execution_count": 48,
   "metadata": {},
   "outputs": [
    {
     "data": {
      "text/plain": [
       "BernoulliNB(alpha=1.0, binarize=0.0, class_prior=None, fit_prior=True)"
      ]
     },
     "execution_count": 48,
     "metadata": {},
     "output_type": "execute_result"
    }
   ],
   "source": [
    "bnb = BernoulliNB()\n",
    "bnb.fit(x_train, y_train)"
   ]
  },
  {
   "cell_type": "code",
   "execution_count": 49,
   "metadata": {},
   "outputs": [
    {
     "name": "stdout",
     "output_type": "stream",
     "text": [
      "accuracy: 70.0%\n"
     ]
    }
   ],
   "source": [
    "bnb_predict = bnb.predict(x_test)\n",
    "print(\"accuracy: {}%\".format(round(accuracy_score(y_test, bnb_predict)*100,2)))"
   ]
  },
  {
   "cell_type": "code",
   "execution_count": 50,
   "metadata": {},
   "outputs": [
    {
     "data": {
      "text/plain": [
       "GradientBoostingClassifier(criterion='friedman_mse', init=None,\n",
       "              learning_rate=0.01, loss='deviance', max_depth=5,\n",
       "              max_features=None, max_leaf_nodes=None,\n",
       "              min_impurity_decrease=0.0, min_impurity_split=None,\n",
       "              min_samples_leaf=1, min_samples_split=2,\n",
       "              min_weight_fraction_leaf=0.0, n_estimators=10,\n",
       "              n_iter_no_change=None, presort='auto', random_state=55,\n",
       "              subsample=1.0, tol=0.0001, validation_fraction=0.1,\n",
       "              verbose=0, warm_start=False)"
      ]
     },
     "execution_count": 50,
     "metadata": {},
     "output_type": "execute_result"
    }
   ],
   "source": [
    "gbc = GradientBoostingClassifier(loss = 'deviance', learning_rate = 0.01, n_estimators = 10, max_depth = 5, random_state=55)\n",
    "gbc.fit(x_train, y_train)"
   ]
  },
  {
   "cell_type": "code",
   "execution_count": 51,
   "metadata": {},
   "outputs": [
    {
     "name": "stdout",
     "output_type": "stream",
     "text": [
      "accuracy: 66.67%\n"
     ]
    }
   ],
   "source": [
    "gbc_predict = gbc.predict(x_test)\n",
    "print(\"accuracy: {}%\".format(round(accuracy_score(y_test, gbc_predict)*100,2)))"
   ]
  },
  {
   "cell_type": "code",
   "execution_count": 52,
   "metadata": {},
   "outputs": [
    {
     "data": {
      "text/plain": [
       "XGBClassifier(base_score=0.5, booster=None, colsample_bylevel=1,\n",
       "       colsample_bynode=1, colsample_bytree=1, gamma=0, gpu_id=-1,\n",
       "       importance_type='gain', interaction_constraints=None,\n",
       "       learning_rate=0.01, loss='deviance', max_delta_step=0, max_depth=5,\n",
       "       min_child_weight=1, missing=nan, monotone_constraints=None,\n",
       "       n_estimators=10, n_jobs=0, num_parallel_tree=1,\n",
       "       objective='binary:logistic', random_state=2020, reg_alpha=0,\n",
       "       reg_lambda=1, scale_pos_weight=1, subsample=1, tree_method=None,\n",
       "       validate_parameters=False, verbosity=None)"
      ]
     },
     "execution_count": 52,
     "metadata": {},
     "output_type": "execute_result"
    }
   ],
   "source": [
    "xgbc = XGBClassifier(loss = 'deviance', learning_rate = 0.01, n_estimators = 10, max_depth = 5, random_state=2020)\n",
    "xgbc.fit(x_train, y_train)"
   ]
  },
  {
   "cell_type": "code",
   "execution_count": 53,
   "metadata": {},
   "outputs": [
    {
     "name": "stdout",
     "output_type": "stream",
     "text": [
      "accuracy: 70.0%\n"
     ]
    }
   ],
   "source": [
    "xgbc_predict = xgbc.predict(x_test)\n",
    "print(\"accuracy: {}%\".format(round(accuracy_score(y_test, xgbc_predict)*100,2)))"
   ]
  },
  {
   "cell_type": "code",
   "execution_count": 54,
   "metadata": {},
   "outputs": [
    {
     "name": "stderr",
     "output_type": "stream",
     "text": [
      "C:\\Users\\AMAR\\Anaconda3\\lib\\site-packages\\sklearn\\linear_model\\stochastic_gradient.py:166: FutureWarning: max_iter and tol parameters have been added in SGDClassifier in 0.19. If both are left unset, they default to max_iter=5 and tol=None. If tol is not None, max_iter defaults to max_iter=1000. From 0.21, default max_iter will be 1000, and default tol will be 1e-3.\n",
      "  FutureWarning)\n"
     ]
    },
    {
     "data": {
      "text/plain": [
       "SGDClassifier(alpha=0.0001, average=False, class_weight=None,\n",
       "       early_stopping=False, epsilon=0.1, eta0=0.0, fit_intercept=True,\n",
       "       l1_ratio=0.15, learning_rate='optimal', loss='hinge', max_iter=None,\n",
       "       n_iter=None, n_iter_no_change=5, n_jobs=None, penalty='l2',\n",
       "       power_t=0.5, random_state=None, shuffle=True, tol=None,\n",
       "       validation_fraction=0.1, verbose=0, warm_start=False)"
      ]
     },
     "execution_count": 54,
     "metadata": {},
     "output_type": "execute_result"
    }
   ],
   "source": [
    "sgdc = SGDClassifier()\n",
    "sgdc.fit(x_train, y_train)"
   ]
  },
  {
   "cell_type": "code",
   "execution_count": 55,
   "metadata": {},
   "outputs": [
    {
     "name": "stdout",
     "output_type": "stream",
     "text": [
      "accuracy: 90.0%\n"
     ]
    }
   ],
   "source": [
    "sgdc_predict = sgdc.predict(x_test)\n",
    "print(\"accuracy: {}%\".format(round(accuracy_score(y_test, sgdc_predict)*100,2)))"
   ]
  },
  {
   "cell_type": "code",
   "execution_count": 56,
   "metadata": {},
   "outputs": [
    {
     "data": {
      "text/plain": [
       "DecisionTreeClassifier(class_weight=None, criterion='entropy', max_depth=10,\n",
       "            max_features=None, max_leaf_nodes=None,\n",
       "            min_impurity_decrease=0.0, min_impurity_split=None,\n",
       "            min_samples_leaf=1, min_samples_split=2,\n",
       "            min_weight_fraction_leaf=0.0, presort=False, random_state=2020,\n",
       "            splitter='best')"
      ]
     },
     "execution_count": 56,
     "metadata": {},
     "output_type": "execute_result"
    }
   ],
   "source": [
    "dt = DecisionTreeClassifier(criterion= 'entropy', max_depth = 10, splitter='best', random_state=2020)\n",
    "dt.fit(x_train, y_train)"
   ]
  },
  {
   "cell_type": "code",
   "execution_count": 57,
   "metadata": {},
   "outputs": [
    {
     "name": "stdout",
     "output_type": "stream",
     "text": [
      "accuracy: 66.67%\n"
     ]
    }
   ],
   "source": [
    "dt_predict = dt.predict(x_test)\n",
    "print(\"accuracy: {}%\".format(round(accuracy_score(y_test, dt_predict)*100,2)))"
   ]
  },
  {
   "cell_type": "code",
   "execution_count": 58,
   "metadata": {},
   "outputs": [
    {
     "name": "stderr",
     "output_type": "stream",
     "text": [
      "C:\\Users\\AMAR\\Anaconda3\\lib\\site-packages\\sklearn\\ensemble\\forest.py:246: FutureWarning: The default value of n_estimators will change from 10 in version 0.20 to 100 in 0.22.\n",
      "  \"10 in version 0.20 to 100 in 0.22.\", FutureWarning)\n"
     ]
    },
    {
     "data": {
      "text/plain": [
       "RandomForestClassifier(bootstrap=True, class_weight=None, criterion='gini',\n",
       "            max_depth=None, max_features='auto', max_leaf_nodes=None,\n",
       "            min_impurity_decrease=0.0, min_impurity_split=None,\n",
       "            min_samples_leaf=1, min_samples_split=2,\n",
       "            min_weight_fraction_leaf=0.0, n_estimators=10, n_jobs=None,\n",
       "            oob_score=False, random_state=None, verbose=0,\n",
       "            warm_start=False)"
      ]
     },
     "execution_count": 58,
     "metadata": {},
     "output_type": "execute_result"
    }
   ],
   "source": [
    "rfc = RandomForestClassifier()\n",
    "rfc.fit(x_train, y_train)"
   ]
  },
  {
   "cell_type": "code",
   "execution_count": 59,
   "metadata": {},
   "outputs": [
    {
     "name": "stdout",
     "output_type": "stream",
     "text": [
      "accuracy: 53.33%\n"
     ]
    }
   ],
   "source": [
    "rfc_predict = rfc.predict(x_test)\n",
    "print(\"accuracy: {}%\".format(round(accuracy_score(y_test, rfc_predict)*100,2)))"
   ]
  },
  {
   "cell_type": "code",
   "execution_count": 60,
   "metadata": {},
   "outputs": [
    {
     "data": {
      "text/plain": [
       "KNeighborsClassifier(algorithm='brute', leaf_size=30, metric='minkowski',\n",
       "           metric_params=None, n_jobs=None, n_neighbors=10, p=2,\n",
       "           weights='distance')"
      ]
     },
     "execution_count": 60,
     "metadata": {},
     "output_type": "execute_result"
    }
   ],
   "source": [
    "knn = KNeighborsClassifier(n_neighbors = 10,weights = 'distance',algorithm = 'brute')\n",
    "knn.fit(x_train, y_train)"
   ]
  },
  {
   "cell_type": "code",
   "execution_count": 61,
   "metadata": {},
   "outputs": [
    {
     "name": "stdout",
     "output_type": "stream",
     "text": [
      "accuracy: 73.33%\n"
     ]
    }
   ],
   "source": [
    "knn_predict = knn.predict(x_test)\n",
    "print(\"accuracy: {}%\".format(round(accuracy_score(y_test, knn_predict)*100,2)))"
   ]
  },
  {
   "cell_type": "code",
   "execution_count": null,
   "metadata": {},
   "outputs": [],
   "source": []
  },
  {
   "cell_type": "code",
   "execution_count": null,
   "metadata": {},
   "outputs": [],
   "source": []
  },
  {
   "cell_type": "code",
   "execution_count": 62,
   "metadata": {},
   "outputs": [
    {
     "ename": "AttributeError",
     "evalue": "lower not found",
     "output_type": "error",
     "traceback": [
      "\u001b[1;31m---------------------------------------------------------------------------\u001b[0m",
      "\u001b[1;31mAttributeError\u001b[0m                            Traceback (most recent call last)",
      "\u001b[1;32m<ipython-input-62-018ca07ff0a0>\u001b[0m in \u001b[0;36m<module>\u001b[1;34m\u001b[0m\n\u001b[0;32m      2\u001b[0m \u001b[0mmax_len\u001b[0m \u001b[1;33m=\u001b[0m \u001b[1;36m75\u001b[0m\u001b[1;33m\u001b[0m\u001b[1;33m\u001b[0m\u001b[0m\n\u001b[0;32m      3\u001b[0m \u001b[0mtok\u001b[0m \u001b[1;33m=\u001b[0m \u001b[0mTokenizer\u001b[0m\u001b[1;33m(\u001b[0m\u001b[0mnum_words\u001b[0m\u001b[1;33m=\u001b[0m\u001b[0mmax_words\u001b[0m\u001b[1;33m)\u001b[0m\u001b[1;33m\u001b[0m\u001b[1;33m\u001b[0m\u001b[0m\n\u001b[1;32m----> 4\u001b[1;33m \u001b[0mtok\u001b[0m\u001b[1;33m.\u001b[0m\u001b[0mfit_on_texts\u001b[0m\u001b[1;33m(\u001b[0m\u001b[0mx_train\u001b[0m\u001b[1;33m)\u001b[0m\u001b[1;33m\u001b[0m\u001b[1;33m\u001b[0m\u001b[0m\n\u001b[0m\u001b[0;32m      5\u001b[0m \u001b[0msequences\u001b[0m \u001b[1;33m=\u001b[0m \u001b[0mtok\u001b[0m\u001b[1;33m.\u001b[0m\u001b[0mtexts_to_sequences\u001b[0m\u001b[1;33m(\u001b[0m\u001b[0mx_train\u001b[0m\u001b[1;33m)\u001b[0m\u001b[1;33m\u001b[0m\u001b[1;33m\u001b[0m\u001b[0m\n\u001b[0;32m      6\u001b[0m \u001b[0msequences_matrix\u001b[0m \u001b[1;33m=\u001b[0m \u001b[0msequence\u001b[0m\u001b[1;33m.\u001b[0m\u001b[0mpad_sequences\u001b[0m\u001b[1;33m(\u001b[0m\u001b[0msequences\u001b[0m\u001b[1;33m,\u001b[0m\u001b[0mmaxlen\u001b[0m\u001b[1;33m=\u001b[0m\u001b[0mmax_len\u001b[0m\u001b[1;33m)\u001b[0m\u001b[1;33m\u001b[0m\u001b[1;33m\u001b[0m\u001b[0m\n",
      "\u001b[1;32m~\\Anaconda3\\lib\\site-packages\\keras_preprocessing\\text.py\u001b[0m in \u001b[0;36mfit_on_texts\u001b[1;34m(self, texts)\u001b[0m\n\u001b[0;32m    221\u001b[0m                                             \u001b[0mself\u001b[0m\u001b[1;33m.\u001b[0m\u001b[0mfilters\u001b[0m\u001b[1;33m,\u001b[0m\u001b[1;33m\u001b[0m\u001b[1;33m\u001b[0m\u001b[0m\n\u001b[0;32m    222\u001b[0m                                             \u001b[0mself\u001b[0m\u001b[1;33m.\u001b[0m\u001b[0mlower\u001b[0m\u001b[1;33m,\u001b[0m\u001b[1;33m\u001b[0m\u001b[1;33m\u001b[0m\u001b[0m\n\u001b[1;32m--> 223\u001b[1;33m                                             self.split)\n\u001b[0m\u001b[0;32m    224\u001b[0m             \u001b[1;32mfor\u001b[0m \u001b[0mw\u001b[0m \u001b[1;32min\u001b[0m \u001b[0mseq\u001b[0m\u001b[1;33m:\u001b[0m\u001b[1;33m\u001b[0m\u001b[1;33m\u001b[0m\u001b[0m\n\u001b[0;32m    225\u001b[0m                 \u001b[1;32mif\u001b[0m \u001b[0mw\u001b[0m \u001b[1;32min\u001b[0m \u001b[0mself\u001b[0m\u001b[1;33m.\u001b[0m\u001b[0mword_counts\u001b[0m\u001b[1;33m:\u001b[0m\u001b[1;33m\u001b[0m\u001b[1;33m\u001b[0m\u001b[0m\n",
      "\u001b[1;32m~\\Anaconda3\\lib\\site-packages\\keras_preprocessing\\text.py\u001b[0m in \u001b[0;36mtext_to_word_sequence\u001b[1;34m(text, filters, lower, split)\u001b[0m\n\u001b[0;32m     41\u001b[0m     \"\"\"\n\u001b[0;32m     42\u001b[0m     \u001b[1;32mif\u001b[0m \u001b[0mlower\u001b[0m\u001b[1;33m:\u001b[0m\u001b[1;33m\u001b[0m\u001b[1;33m\u001b[0m\u001b[0m\n\u001b[1;32m---> 43\u001b[1;33m         \u001b[0mtext\u001b[0m \u001b[1;33m=\u001b[0m \u001b[0mtext\u001b[0m\u001b[1;33m.\u001b[0m\u001b[0mlower\u001b[0m\u001b[1;33m(\u001b[0m\u001b[1;33m)\u001b[0m\u001b[1;33m\u001b[0m\u001b[1;33m\u001b[0m\u001b[0m\n\u001b[0m\u001b[0;32m     44\u001b[0m \u001b[1;33m\u001b[0m\u001b[0m\n\u001b[0;32m     45\u001b[0m     \u001b[1;32mif\u001b[0m \u001b[0msys\u001b[0m\u001b[1;33m.\u001b[0m\u001b[0mversion_info\u001b[0m \u001b[1;33m<\u001b[0m \u001b[1;33m(\u001b[0m\u001b[1;36m3\u001b[0m\u001b[1;33m,\u001b[0m\u001b[1;33m)\u001b[0m\u001b[1;33m:\u001b[0m\u001b[1;33m\u001b[0m\u001b[1;33m\u001b[0m\u001b[0m\n",
      "\u001b[1;32m~\\Anaconda3\\lib\\site-packages\\scipy\\sparse\\base.py\u001b[0m in \u001b[0;36m__getattr__\u001b[1;34m(self, attr)\u001b[0m\n\u001b[0;32m    684\u001b[0m             \u001b[1;32mreturn\u001b[0m \u001b[0mself\u001b[0m\u001b[1;33m.\u001b[0m\u001b[0mgetnnz\u001b[0m\u001b[1;33m(\u001b[0m\u001b[1;33m)\u001b[0m\u001b[1;33m\u001b[0m\u001b[1;33m\u001b[0m\u001b[0m\n\u001b[0;32m    685\u001b[0m         \u001b[1;32melse\u001b[0m\u001b[1;33m:\u001b[0m\u001b[1;33m\u001b[0m\u001b[1;33m\u001b[0m\u001b[0m\n\u001b[1;32m--> 686\u001b[1;33m             \u001b[1;32mraise\u001b[0m \u001b[0mAttributeError\u001b[0m\u001b[1;33m(\u001b[0m\u001b[0mattr\u001b[0m \u001b[1;33m+\u001b[0m \u001b[1;34m\" not found\"\u001b[0m\u001b[1;33m)\u001b[0m\u001b[1;33m\u001b[0m\u001b[1;33m\u001b[0m\u001b[0m\n\u001b[0m\u001b[0;32m    687\u001b[0m \u001b[1;33m\u001b[0m\u001b[0m\n\u001b[0;32m    688\u001b[0m     \u001b[1;32mdef\u001b[0m \u001b[0mtranspose\u001b[0m\u001b[1;33m(\u001b[0m\u001b[0mself\u001b[0m\u001b[1;33m,\u001b[0m \u001b[0maxes\u001b[0m\u001b[1;33m=\u001b[0m\u001b[1;32mNone\u001b[0m\u001b[1;33m,\u001b[0m \u001b[0mcopy\u001b[0m\u001b[1;33m=\u001b[0m\u001b[1;32mFalse\u001b[0m\u001b[1;33m)\u001b[0m\u001b[1;33m:\u001b[0m\u001b[1;33m\u001b[0m\u001b[1;33m\u001b[0m\u001b[0m\n",
      "\u001b[1;31mAttributeError\u001b[0m: lower not found"
     ]
    }
   ],
   "source": [
    "max_words = 500\n",
    "max_len = 75\n",
    "tok = Tokenizer(num_words=max_words)\n",
    "tok.fit_on_texts(x_train)\n",
    "sequences = tok.texts_to_sequences(x_train)\n",
    "sequences_matrix = sequence.pad_sequences(sequences,maxlen=max_len)\n",
    "def RNN():\n",
    "    inputs = Input(name='inputs',shape=[max_len])\n",
    "    layer = Embedding(max_words,50,input_length=max_len)(inputs)\n",
    "    layer = LSTM(64)(layer)\n",
    "    layer = Dense(256,name='FC1')(layer)\n",
    "    layer = Activation('relu')(layer)\n",
    "    layer = Dropout(0.5)(layer)\n",
    "    layer = Dense(1,name='out_layer')(layer)\n",
    "    layer = Activation('sigmoid')(layer)\n",
    "    model = Model(inputs=inputs,outputs=layer)\n",
    "    return model\n",
    "model = RNN()"
   ]
  },
  {
   "cell_type": "code",
   "execution_count": null,
   "metadata": {},
   "outputs": [],
   "source": []
  },
  {
   "cell_type": "code",
   "execution_count": null,
   "metadata": {},
   "outputs": [],
   "source": []
  },
  {
   "cell_type": "code",
   "execution_count": 656,
   "metadata": {},
   "outputs": [],
   "source": [
    "test_pred=test_df1['text']"
   ]
  },
  {
   "cell_type": "code",
   "execution_count": 657,
   "metadata": {},
   "outputs": [],
   "source": [
    "tfidf_pred=tfidf_vectorizer.transform(test_pred)"
   ]
  },
  {
   "cell_type": "code",
   "execution_count": 658,
   "metadata": {},
   "outputs": [],
   "source": [
    "y_pred=sgdc.predict(tfidf_pred)"
   ]
  },
  {
   "cell_type": "code",
   "execution_count": 659,
   "metadata": {},
   "outputs": [],
   "source": [
    "test_df1['label']= y_pred.tolist()"
   ]
  },
  {
   "cell_type": "code",
   "execution_count": 660,
   "metadata": {},
   "outputs": [],
   "source": [
    "df_TestOutput=test_df1[['label']].copy(deep=True)"
   ]
  },
  {
   "cell_type": "code",
   "execution_count": 661,
   "metadata": {},
   "outputs": [],
   "source": [
    "df_TestOutput=df_TestOutput.T"
   ]
  },
  {
   "cell_type": "code",
   "execution_count": 662,
   "metadata": {},
   "outputs": [],
   "source": [
    "df_TestOutput.to_json ('test-output.json')"
   ]
  },
  {
   "cell_type": "code",
   "execution_count": null,
   "metadata": {},
   "outputs": [],
   "source": []
  },
  {
   "cell_type": "code",
   "execution_count": null,
   "metadata": {},
   "outputs": [],
   "source": []
  },
  {
   "cell_type": "code",
   "execution_count": null,
   "metadata": {},
   "outputs": [],
   "source": []
  },
  {
   "cell_type": "code",
   "execution_count": null,
   "metadata": {},
   "outputs": [],
   "source": []
  },
  {
   "cell_type": "code",
   "execution_count": null,
   "metadata": {},
   "outputs": [],
   "source": []
  },
  {
   "cell_type": "code",
   "execution_count": null,
   "metadata": {},
   "outputs": [],
   "source": []
  },
  {
   "cell_type": "code",
   "execution_count": null,
   "metadata": {},
   "outputs": [],
   "source": []
  },
  {
   "cell_type": "code",
   "execution_count": null,
   "metadata": {},
   "outputs": [],
   "source": []
  },
  {
   "cell_type": "code",
   "execution_count": 665,
   "metadata": {},
   "outputs": [
    {
     "name": "stdout",
     "output_type": "stream",
     "text": [
      "accuracy: 50.0%\n"
     ]
    }
   ],
   "source": [
    "x_train,x_test,y_train,y_test = train_test_split(dev1['text'], dev1.label, test_size=0.3, random_state=2020)\n",
    "\n",
    "pipe = Pipeline([('vect', CountVectorizer()),\n",
    "                 ('tfidf', TfidfTransformer()),\n",
    "                 ('model', LogisticRegression())])\n",
    "\n",
    "model = pipe.fit(x_train, y_train)\n",
    "prediction = model.predict(x_test)\n",
    "print(\"accuracy: {}%\".format(round(accuracy_score(y_test, prediction)*100,2)))"
   ]
  },
  {
   "cell_type": "code",
   "execution_count": 666,
   "metadata": {},
   "outputs": [
    {
     "name": "stdout",
     "output_type": "stream",
     "text": [
      "accuracy: 83.33%\n"
     ]
    }
   ],
   "source": [
    "\n",
    "pipe = Pipeline([('vect', CountVectorizer()),\n",
    "                 ('tfidf', TfidfTransformer()),\n",
    "                 ('model', LinearSVC())])\n",
    "\n",
    "model = pipe.fit(x_train, y_train)\n",
    "prediction = model.predict(x_test)\n",
    "print(\"accuracy: {}%\".format(round(accuracy_score(y_test, prediction)*100,2)))"
   ]
  },
  {
   "cell_type": "code",
   "execution_count": 667,
   "metadata": {},
   "outputs": [
    {
     "name": "stdout",
     "output_type": "stream",
     "text": [
      "accuracy: 36.67%\n"
     ]
    }
   ],
   "source": [
    "pipe = Pipeline([('vect', CountVectorizer()),\n",
    "                 ('tfidf', TfidfTransformer()),\n",
    "                 ('model', MultinomialNB())])\n",
    "\n",
    "model = pipe.fit(x_train, y_train)\n",
    "prediction = model.predict(x_test)\n",
    "print(\"accuracy: {}%\".format(round(accuracy_score(y_test, prediction)*100,2)))"
   ]
  },
  {
   "cell_type": "code",
   "execution_count": 668,
   "metadata": {},
   "outputs": [
    {
     "name": "stdout",
     "output_type": "stream",
     "text": [
      "accuracy: 80.0%\n"
     ]
    }
   ],
   "source": [
    "pipe = Pipeline([('vect', CountVectorizer()),\n",
    "                 ('tfidf', TfidfTransformer()),\n",
    "                 ('model', BernoulliNB())])\n",
    "\n",
    "model = pipe.fit(x_train, y_train)\n",
    "prediction = model.predict(x_test)\n",
    "print(\"accuracy: {}%\".format(round(accuracy_score(y_test, prediction)*100,2)))"
   ]
  },
  {
   "cell_type": "code",
   "execution_count": 669,
   "metadata": {},
   "outputs": [
    {
     "name": "stdout",
     "output_type": "stream",
     "text": [
      "accuracy: 33.33%\n"
     ]
    }
   ],
   "source": [
    "pipe = Pipeline([('vect', CountVectorizer()),\n",
    "                 ('tfidf', TfidfTransformer()),\n",
    "                 ('model', GradientBoostingClassifier(loss = 'deviance',\n",
    "                                                   learning_rate = 0.01,\n",
    "                                                   n_estimators = 10,\n",
    "                                                   max_depth = 5,\n",
    "                                                   random_state=55))])\n",
    "\n",
    "model = pipe.fit(x_train, y_train)\n",
    "prediction = model.predict(x_test)\n",
    "print(\"accuracy: {}%\".format(round(accuracy_score(y_test, prediction)*100,2)))"
   ]
  },
  {
   "cell_type": "code",
   "execution_count": 670,
   "metadata": {},
   "outputs": [
    {
     "name": "stdout",
     "output_type": "stream",
     "text": [
      "accuracy: 86.67%\n"
     ]
    }
   ],
   "source": [
    "pipe = Pipeline([('vect', CountVectorizer()),\n",
    "                 ('tfidf', TfidfTransformer()),\n",
    "                 ('model', XGBClassifier(loss = 'deviance',\n",
    "                                                   learning_rate = 0.01,\n",
    "                                                   n_estimators = 10,\n",
    "                                                   max_depth = 5,\n",
    "                                                   random_state=2020))])\n",
    "\n",
    "model = pipe.fit(x_train, y_train)\n",
    "prediction = model.predict(x_test)\n",
    "print(\"accuracy: {}%\".format(round(accuracy_score(y_test, prediction)*100,2)))"
   ]
  },
  {
   "cell_type": "code",
   "execution_count": 671,
   "metadata": {},
   "outputs": [
    {
     "name": "stdout",
     "output_type": "stream",
     "text": [
      "accuracy: 83.33%\n"
     ]
    },
    {
     "name": "stderr",
     "output_type": "stream",
     "text": [
      "C:\\Users\\AMAR\\Anaconda3\\lib\\site-packages\\sklearn\\linear_model\\stochastic_gradient.py:166: FutureWarning: max_iter and tol parameters have been added in SGDClassifier in 0.19. If both are left unset, they default to max_iter=5 and tol=None. If tol is not None, max_iter defaults to max_iter=1000. From 0.21, default max_iter will be 1000, and default tol will be 1e-3.\n",
      "  FutureWarning)\n"
     ]
    }
   ],
   "source": [
    "pipe = Pipeline([('vect', CountVectorizer()),\n",
    "                 ('tfidf', TfidfTransformer()),\n",
    "                 ('model', SGDClassifier())])\n",
    "\n",
    "model = pipe.fit(x_train, y_train)\n",
    "prediction = model.predict(x_test)\n",
    "print(\"accuracy: {}%\".format(round(accuracy_score(y_test, prediction)*100,2)))"
   ]
  },
  {
   "cell_type": "code",
   "execution_count": 672,
   "metadata": {},
   "outputs": [
    {
     "name": "stdout",
     "output_type": "stream",
     "text": [
      "accuracy: 90.0%\n"
     ]
    }
   ],
   "source": [
    "pipe = Pipeline([('vect', CountVectorizer()),\n",
    "                 ('tfidf', TfidfTransformer()),\n",
    "                 ('model', DecisionTreeClassifier(criterion= 'entropy',\n",
    "                                           max_depth = 10, \n",
    "                                           splitter='best', \n",
    "                                           random_state=2020))])\n",
    "\n",
    "model = pipe.fit(x_train, y_train)\n",
    "prediction = model.predict(x_test)\n",
    "print(\"accuracy: {}%\".format(round(accuracy_score(y_test, prediction)*100,2)))"
   ]
  },
  {
   "cell_type": "code",
   "execution_count": 673,
   "metadata": {},
   "outputs": [
    {
     "name": "stdout",
     "output_type": "stream",
     "text": [
      "accuracy: 56.67%\n"
     ]
    },
    {
     "name": "stderr",
     "output_type": "stream",
     "text": [
      "C:\\Users\\AMAR\\Anaconda3\\lib\\site-packages\\sklearn\\ensemble\\forest.py:246: FutureWarning: The default value of n_estimators will change from 10 in version 0.20 to 100 in 0.22.\n",
      "  \"10 in version 0.20 to 100 in 0.22.\", FutureWarning)\n"
     ]
    }
   ],
   "source": [
    "pipe = Pipeline([('vect', CountVectorizer()),\n",
    "                 ('tfidf', TfidfTransformer()),\n",
    "                 ('model', RandomForestClassifier())])\n",
    "\n",
    "model = pipe.fit(x_train, y_train)\n",
    "prediction = model.predict(x_test)\n",
    "print(\"accuracy: {}%\".format(round(accuracy_score(y_test, prediction)*100,2)))"
   ]
  },
  {
   "cell_type": "code",
   "execution_count": 674,
   "metadata": {},
   "outputs": [
    {
     "name": "stdout",
     "output_type": "stream",
     "text": [
      "accuracy: 76.67%\n"
     ]
    }
   ],
   "source": [
    "pipe = Pipeline([('vect', CountVectorizer()),\n",
    "                 ('tfidf', TfidfTransformer()),\n",
    "                 ('model', KNeighborsClassifier(n_neighbors = 10,weights = 'distance',algorithm = 'brute'))])\n",
    "\n",
    "model = pipe.fit(x_train, y_train)\n",
    "prediction = model.predict(x_test)\n",
    "print(\"accuracy: {}%\".format(round(accuracy_score(y_test, prediction)*100,2)))"
   ]
  },
  {
   "cell_type": "code",
   "execution_count": null,
   "metadata": {},
   "outputs": [],
   "source": []
  },
  {
   "cell_type": "code",
   "execution_count": null,
   "metadata": {},
   "outputs": [],
   "source": []
  },
  {
   "cell_type": "code",
   "execution_count": null,
   "metadata": {},
   "outputs": [],
   "source": []
  }
 ],
 "metadata": {
  "kernelspec": {
   "display_name": "Python 3",
   "language": "python",
   "name": "python3"
  },
  "language_info": {
   "codemirror_mode": {
    "name": "ipython",
    "version": 3
   },
   "file_extension": ".py",
   "mimetype": "text/x-python",
   "name": "python",
   "nbconvert_exporter": "python",
   "pygments_lexer": "ipython3",
   "version": "3.7.1"
  }
 },
 "nbformat": 4,
 "nbformat_minor": 2
}
